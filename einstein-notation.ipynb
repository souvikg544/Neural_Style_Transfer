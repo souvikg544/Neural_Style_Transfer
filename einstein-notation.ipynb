{
 "cells": [
  {
   "cell_type": "markdown",
   "id": "438c714d",
   "metadata": {
    "papermill": {
     "duration": 0.006036,
     "end_time": "2022-09-19T15:14:16.290066",
     "exception": false,
     "start_time": "2022-09-19T15:14:16.284030",
     "status": "completed"
    },
    "tags": []
   },
   "source": [
    "# Tensorflow Implementation of Style Loss"
   ]
  },
  {
   "cell_type": "markdown",
   "id": "75a72683",
   "metadata": {
    "papermill": {
     "duration": 0.004823,
     "end_time": "2022-09-19T15:14:16.305523",
     "exception": false,
     "start_time": "2022-09-19T15:14:16.300700",
     "status": "completed"
    },
    "tags": []
   },
   "source": [
    "![style_loss](https://user-images.githubusercontent.com/63863911/191050886-14bdc139-6ef9-41c2-ba49-079f913b06b2.PNG)\n"
   ]
  },
  {
   "cell_type": "code",
   "execution_count": 1,
   "id": "f624e0ef",
   "metadata": {
    "execution": {
     "iopub.execute_input": "2022-09-19T15:14:16.322998Z",
     "iopub.status.busy": "2022-09-19T15:14:16.322452Z",
     "iopub.status.idle": "2022-09-19T15:14:25.940729Z",
     "shell.execute_reply": "2022-09-19T15:14:25.938450Z"
    },
    "papermill": {
     "duration": 9.63252,
     "end_time": "2022-09-19T15:14:25.944694",
     "exception": false,
     "start_time": "2022-09-19T15:14:16.312174",
     "status": "completed"
    },
    "tags": []
   },
   "outputs": [],
   "source": [
    "import tensorflow as tf"
   ]
  },
  {
   "cell_type": "code",
   "execution_count": 2,
   "id": "772d7add",
   "metadata": {
    "execution": {
     "iopub.execute_input": "2022-09-19T15:14:25.959827Z",
     "iopub.status.busy": "2022-09-19T15:14:25.959005Z",
     "iopub.status.idle": "2022-09-19T15:14:26.024836Z",
     "shell.execute_reply": "2022-09-19T15:14:26.023789Z"
    },
    "papermill": {
     "duration": 0.077626,
     "end_time": "2022-09-19T15:14:26.027722",
     "exception": false,
     "start_time": "2022-09-19T15:14:25.950096",
     "status": "completed"
    },
    "tags": []
   },
   "outputs": [
    {
     "name": "stderr",
     "output_type": "stream",
     "text": [
      "2022-09-19 15:14:25.989895: I tensorflow/core/common_runtime/process_util.cc:146] Creating new thread pool with default inter op setting: 2. Tune using inter_op_parallelism_threads for best performance.\n"
     ]
    }
   ],
   "source": [
    "x=tf.constant([1,2,3,4],shape=(2,2))"
   ]
  },
  {
   "cell_type": "code",
   "execution_count": 3,
   "id": "aabfd44a",
   "metadata": {
    "execution": {
     "iopub.execute_input": "2022-09-19T15:14:26.042372Z",
     "iopub.status.busy": "2022-09-19T15:14:26.041669Z",
     "iopub.status.idle": "2022-09-19T15:14:26.059133Z",
     "shell.execute_reply": "2022-09-19T15:14:26.055701Z"
    },
    "papermill": {
     "duration": 0.029597,
     "end_time": "2022-09-19T15:14:26.062971",
     "exception": false,
     "start_time": "2022-09-19T15:14:26.033374",
     "status": "completed"
    },
    "tags": []
   },
   "outputs": [
    {
     "data": {
      "text/plain": [
       "<tf.Tensor: shape=(2, 2), dtype=int32, numpy=\n",
       "array([[1, 2],\n",
       "       [3, 4]], dtype=int32)>"
      ]
     },
     "execution_count": 3,
     "metadata": {},
     "output_type": "execute_result"
    }
   ],
   "source": [
    "x"
   ]
  },
  {
   "cell_type": "code",
   "execution_count": 4,
   "id": "dca58793",
   "metadata": {
    "execution": {
     "iopub.execute_input": "2022-09-19T15:14:26.076487Z",
     "iopub.status.busy": "2022-09-19T15:14:26.076036Z",
     "iopub.status.idle": "2022-09-19T15:14:26.100592Z",
     "shell.execute_reply": "2022-09-19T15:14:26.098774Z"
    },
    "papermill": {
     "duration": 0.034815,
     "end_time": "2022-09-19T15:14:26.103738",
     "exception": false,
     "start_time": "2022-09-19T15:14:26.068923",
     "status": "completed"
    },
    "tags": []
   },
   "outputs": [],
   "source": [
    "xt=tf.transpose(x)"
   ]
  },
  {
   "cell_type": "code",
   "execution_count": 5,
   "id": "218f013b",
   "metadata": {
    "execution": {
     "iopub.execute_input": "2022-09-19T15:14:26.119574Z",
     "iopub.status.busy": "2022-09-19T15:14:26.118240Z",
     "iopub.status.idle": "2022-09-19T15:14:26.129979Z",
     "shell.execute_reply": "2022-09-19T15:14:26.127183Z"
    },
    "papermill": {
     "duration": 0.024712,
     "end_time": "2022-09-19T15:14:26.133527",
     "exception": false,
     "start_time": "2022-09-19T15:14:26.108815",
     "status": "completed"
    },
    "tags": []
   },
   "outputs": [
    {
     "data": {
      "text/plain": [
       "<tf.Tensor: shape=(2, 2), dtype=int32, numpy=\n",
       "array([[1, 3],\n",
       "       [2, 4]], dtype=int32)>"
      ]
     },
     "execution_count": 5,
     "metadata": {},
     "output_type": "execute_result"
    }
   ],
   "source": [
    "xt"
   ]
  },
  {
   "cell_type": "markdown",
   "id": "9e2b71f5",
   "metadata": {
    "papermill": {
     "duration": 0.006283,
     "end_time": "2022-09-19T15:14:26.146455",
     "exception": false,
     "start_time": "2022-09-19T15:14:26.140172",
     "status": "completed"
    },
    "tags": []
   },
   "source": [
    "Using the ein function in linalg in tensorflow"
   ]
  },
  {
   "cell_type": "code",
   "execution_count": 6,
   "id": "9560d8fe",
   "metadata": {
    "execution": {
     "iopub.execute_input": "2022-09-19T15:14:26.165705Z",
     "iopub.status.busy": "2022-09-19T15:14:26.165203Z",
     "iopub.status.idle": "2022-09-19T15:14:26.186694Z",
     "shell.execute_reply": "2022-09-19T15:14:26.185782Z"
    },
    "papermill": {
     "duration": 0.033989,
     "end_time": "2022-09-19T15:14:26.188998",
     "exception": false,
     "start_time": "2022-09-19T15:14:26.155009",
     "status": "completed"
    },
    "tags": []
   },
   "outputs": [
    {
     "data": {
      "text/plain": [
       "<tf.Tensor: shape=(2, 2), dtype=int32, numpy=\n",
       "array([[ 1,  4],\n",
       "       [ 9, 16]], dtype=int32)>"
      ]
     },
     "execution_count": 6,
     "metadata": {},
     "output_type": "execute_result"
    }
   ],
   "source": [
    "tf.linalg.einsum('ij,ij->ij',x,x)"
   ]
  },
  {
   "cell_type": "markdown",
   "id": "e1ecb3ce",
   "metadata": {
    "papermill": {
     "duration": 0.005543,
     "end_time": "2022-09-19T15:14:26.201208",
     "exception": false,
     "start_time": "2022-09-19T15:14:26.195665",
     "status": "completed"
    },
    "tags": []
   },
   "source": [
    "## Matrix multimlication using Einsum"
   ]
  },
  {
   "cell_type": "code",
   "execution_count": 7,
   "id": "cfddfe6d",
   "metadata": {
    "execution": {
     "iopub.execute_input": "2022-09-19T15:14:26.214387Z",
     "iopub.status.busy": "2022-09-19T15:14:26.213979Z",
     "iopub.status.idle": "2022-09-19T15:14:26.232966Z",
     "shell.execute_reply": "2022-09-19T15:14:26.230721Z"
    },
    "papermill": {
     "duration": 0.029738,
     "end_time": "2022-09-19T15:14:26.236983",
     "exception": false,
     "start_time": "2022-09-19T15:14:26.207245",
     "status": "completed"
    },
    "tags": []
   },
   "outputs": [
    {
     "data": {
      "text/plain": [
       "<tf.Tensor: shape=(2, 2), dtype=int32, numpy=\n",
       "array([[10, 14],\n",
       "       [14, 20]], dtype=int32)>"
      ]
     },
     "execution_count": 7,
     "metadata": {},
     "output_type": "execute_result"
    }
   ],
   "source": [
    "tf.linalg.einsum('ij,jk->ik',xt,x)"
   ]
  },
  {
   "cell_type": "code",
   "execution_count": 8,
   "id": "5e69c0bd",
   "metadata": {
    "execution": {
     "iopub.execute_input": "2022-09-19T15:14:26.251152Z",
     "iopub.status.busy": "2022-09-19T15:14:26.250712Z",
     "iopub.status.idle": "2022-09-19T15:14:26.265730Z",
     "shell.execute_reply": "2022-09-19T15:14:26.264087Z"
    },
    "papermill": {
     "duration": 0.025128,
     "end_time": "2022-09-19T15:14:26.268436",
     "exception": false,
     "start_time": "2022-09-19T15:14:26.243308",
     "status": "completed"
    },
    "tags": []
   },
   "outputs": [
    {
     "data": {
      "text/plain": [
       "<tf.Tensor: shape=(2, 2), dtype=int32, numpy=\n",
       "array([[10, 14],\n",
       "       [14, 20]], dtype=int32)>"
      ]
     },
     "execution_count": 8,
     "metadata": {},
     "output_type": "execute_result"
    }
   ],
   "source": [
    "tf.matmul(xt,x)"
   ]
  },
  {
   "cell_type": "markdown",
   "id": "49f7c023",
   "metadata": {
    "papermill": {
     "duration": 0.005392,
     "end_time": "2022-09-19T15:14:26.280109",
     "exception": false,
     "start_time": "2022-09-19T15:14:26.274717",
     "status": "completed"
    },
    "tags": []
   },
   "source": [
    "## Performing Reduced Sum"
   ]
  },
  {
   "cell_type": "code",
   "execution_count": 9,
   "id": "e8061a82",
   "metadata": {
    "execution": {
     "iopub.execute_input": "2022-09-19T15:14:26.295560Z",
     "iopub.status.busy": "2022-09-19T15:14:26.294664Z",
     "iopub.status.idle": "2022-09-19T15:14:26.309349Z",
     "shell.execute_reply": "2022-09-19T15:14:26.308021Z"
    },
    "papermill": {
     "duration": 0.026514,
     "end_time": "2022-09-19T15:14:26.313258",
     "exception": false,
     "start_time": "2022-09-19T15:14:26.286744",
     "status": "completed"
    },
    "tags": []
   },
   "outputs": [
    {
     "data": {
      "text/plain": [
       "<tf.Tensor: shape=(), dtype=int32, numpy=58>"
      ]
     },
     "execution_count": 9,
     "metadata": {},
     "output_type": "execute_result"
    }
   ],
   "source": [
    "tf.linalg.einsum('ij,jk->',xt,x)"
   ]
  },
  {
   "cell_type": "markdown",
   "id": "91568b31",
   "metadata": {
    "papermill": {
     "duration": 0.006896,
     "end_time": "2022-09-19T15:14:26.327611",
     "exception": false,
     "start_time": "2022-09-19T15:14:26.320715",
     "status": "completed"
    },
    "tags": []
   },
   "source": [
    "## Style Weight"
   ]
  },
  {
   "cell_type": "markdown",
   "id": "891f1dbc",
   "metadata": {
    "papermill": {
     "duration": 0.005225,
     "end_time": "2022-09-19T15:14:26.338532",
     "exception": false,
     "start_time": "2022-09-19T15:14:26.333307",
     "status": "completed"
    },
    "tags": []
   },
   "source": [
    "The style weight is the calculated using the formula -->\n",
    "1/(2*h*w*f) height , width and filters.\n",
    "In our case with (2,2) matrix and the filter size be 1 , it will be.."
   ]
  },
  {
   "cell_type": "code",
   "execution_count": 10,
   "id": "25a9b069",
   "metadata": {
    "execution": {
     "iopub.execute_input": "2022-09-19T15:14:26.351229Z",
     "iopub.status.busy": "2022-09-19T15:14:26.350769Z",
     "iopub.status.idle": "2022-09-19T15:14:26.361677Z",
     "shell.execute_reply": "2022-09-19T15:14:26.359180Z"
    },
    "papermill": {
     "duration": 0.020703,
     "end_time": "2022-09-19T15:14:26.364605",
     "exception": false,
     "start_time": "2022-09-19T15:14:26.343902",
     "status": "completed"
    },
    "tags": []
   },
   "outputs": [
    {
     "data": {
      "text/plain": [
       "0.25"
      ]
     },
     "execution_count": 10,
     "metadata": {},
     "output_type": "execute_result"
    }
   ],
   "source": [
    "1/(2*2*1)"
   ]
  },
  {
   "cell_type": "markdown",
   "id": "1800699c",
   "metadata": {
    "papermill": {
     "duration": 0.011516,
     "end_time": "2022-09-19T15:14:26.382063",
     "exception": false,
     "start_time": "2022-09-19T15:14:26.370547",
     "status": "completed"
    },
    "tags": []
   },
   "source": [
    "## Final Code in Colab"
   ]
  },
  {
   "cell_type": "markdown",
   "id": "338a77e4",
   "metadata": {
    "papermill": {
     "duration": 0.007288,
     "end_time": "2022-09-19T15:14:26.395056",
     "exception": false,
     "start_time": "2022-09-19T15:14:26.387768",
     "status": "completed"
    },
    "tags": []
   },
   "source": [
    "![reduced sum](https://user-images.githubusercontent.com/63863911/191051170-63325e68-6b95-43e0-95c7-8f5e3188f5e5.PNG)\n"
   ]
  }
 ],
 "metadata": {
  "kernelspec": {
   "display_name": "Python 3",
   "language": "python",
   "name": "python3"
  },
  "language_info": {
   "codemirror_mode": {
    "name": "ipython",
    "version": 3
   },
   "file_extension": ".py",
   "mimetype": "text/x-python",
   "name": "python",
   "nbconvert_exporter": "python",
   "pygments_lexer": "ipython3",
   "version": "3.7.12"
  },
  "papermill": {
   "default_parameters": {},
   "duration": 28.49221,
   "end_time": "2022-09-19T15:14:29.456699",
   "environment_variables": {},
   "exception": null,
   "input_path": "__notebook__.ipynb",
   "output_path": "__notebook__.ipynb",
   "parameters": {},
   "start_time": "2022-09-19T15:14:00.964489",
   "version": "2.3.4"
  }
 },
 "nbformat": 4,
 "nbformat_minor": 5
}
